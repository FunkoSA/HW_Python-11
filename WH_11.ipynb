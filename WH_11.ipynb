{
 "cells": [
  {
   "cell_type": "markdown",
   "id": "05cb13e4",
   "metadata": {},
   "source": [
    "# f(x) = (sin(x)/2 + cos(x)/2)^2 * sin(x)\n",
    "\n",
    "* Определить корни\n",
    "* Найти интервалы, на которых функция возрастает\n",
    "* Найти интервалы, на которых функция убывает\n",
    "* Построить график\n",
    "* Вычислить вершину\n",
    "* Определить промежутки, на котором f > 0\n",
    "* Определить промежутки, на котором f < 0\n",
    "\n"
   ]
  },
  {
   "cell_type": "code",
   "execution_count": 1,
   "id": "a844a7f2",
   "metadata": {},
   "outputs": [],
   "source": [
    "from sympy.abc import x,u\n",
    "from sympy import  solve, solveset, plot, diff, Interval, oo, is_increasing, simplify\n",
    "from sympy import sin, cos,  pi, atan, sqrt, evalf"
   ]
  },
  {
   "cell_type": "markdown",
   "id": "b7b37ef8",
   "metadata": {},
   "source": [
    "## Определить корни\n",
    "\n"
   ]
  },
  {
   "cell_type": "code",
   "execution_count": 2,
   "id": "3287b69f",
   "metadata": {},
   "outputs": [
    {
     "data": {
      "text/latex": [
       "$\\displaystyle \\left(\\frac{\\sin{\\left(x \\right)}}{2} + \\frac{\\cos{\\left(x \\right)}}{2}\\right)^{2} \\sin{\\left(x \\right)}$"
      ],
      "text/plain": [
       "(sin(x)/2 + cos(x)/2)**2*sin(x)"
      ]
     },
     "execution_count": 2,
     "metadata": {},
     "output_type": "execute_result"
    }
   ],
   "source": [
    "y = (sin(x)/2 + cos(x)/2)**2*sin(x)\n",
    "y"
   ]
  },
  {
   "cell_type": "code",
   "execution_count": 3,
   "id": "22ebb927",
   "metadata": {},
   "outputs": [
    {
     "data": {
      "text/plain": [
       "[0, -pi/4, 3*pi/4, pi]"
      ]
     },
     "execution_count": 3,
     "metadata": {},
     "output_type": "execute_result"
    }
   ],
   "source": [
    "solve (y,x)"
   ]
  },
  {
   "cell_type": "code",
   "execution_count": 4,
   "id": "041c0950",
   "metadata": {},
   "outputs": [
    {
     "data": {
      "text/latex": [
       "$\\displaystyle \\left\\{2 n \\pi\\; \\middle|\\; n \\in \\mathbb{Z}\\right\\} \\cup \\left\\{2 n \\pi + \\pi\\; \\middle|\\; n \\in \\mathbb{Z}\\right\\} \\cup \\left\\{2 n \\pi + \\frac{3 \\pi}{4}\\; \\middle|\\; n \\in \\mathbb{Z}\\right\\} \\cup \\left\\{2 n \\pi + \\frac{7 \\pi}{4}\\; \\middle|\\; n \\in \\mathbb{Z}\\right\\}$"
      ],
      "text/plain": [
       "Union(ImageSet(Lambda(_n, 2*_n*pi + 3*pi/4), Integers), ImageSet(Lambda(_n, 2*_n*pi + 7*pi/4), Integers), ImageSet(Lambda(_n, 2*_n*pi + pi), Integers), ImageSet(Lambda(_n, 2*_n*pi), Integers))"
      ]
     },
     "execution_count": 4,
     "metadata": {},
     "output_type": "execute_result"
    }
   ],
   "source": [
    "solveset (y,x)"
   ]
  },
  {
   "cell_type": "markdown",
   "id": "1e2aca7d",
   "metadata": {},
   "source": [
    "## Нахождение отрезков убывания и возрасстания функции"
   ]
  },
  {
   "cell_type": "code",
   "execution_count": 5,
   "id": "bde209f9",
   "metadata": {},
   "outputs": [
    {
     "data": {
      "text/latex": [
       "$\\displaystyle \\left(- \\sin{\\left(x \\right)} + \\cos{\\left(x \\right)}\\right) \\left(\\frac{\\sin{\\left(x \\right)}}{2} + \\frac{\\cos{\\left(x \\right)}}{2}\\right) \\sin{\\left(x \\right)} + \\left(\\frac{\\sin{\\left(x \\right)}}{2} + \\frac{\\cos{\\left(x \\right)}}{2}\\right)^{2} \\cos{\\left(x \\right)}$"
      ],
      "text/plain": [
       "(-sin(x) + cos(x))*(sin(x)/2 + cos(x)/2)*sin(x) + (sin(x)/2 + cos(x)/2)**2*cos(x)"
      ]
     },
     "execution_count": 5,
     "metadata": {},
     "output_type": "execute_result"
    }
   ],
   "source": [
    "derivate = y.diff(x)\n",
    "derivate"
   ]
  },
  {
   "cell_type": "code",
   "execution_count": 6,
   "id": "07c7465d",
   "metadata": {},
   "outputs": [
    {
     "data": {
      "text/plain": [
       "[-2*atan(-3/2 + sqrt(6)*sqrt(5 - sqrt(17))/2 + sqrt(17)/2),\n",
       " -pi/4,\n",
       " 2*atan(-sqrt(6)*sqrt(sqrt(17) + 5)/2 + 3/2 + sqrt(17)/2),\n",
       " 2*atan(-sqrt(17)/2 + sqrt(6)*sqrt(5 - sqrt(17))/2 + 3/2),\n",
       " 3*pi/4,\n",
       " 2*atan(3/2 + sqrt(17)/2 + sqrt(6)*sqrt(sqrt(17) + 5)/2)]"
      ]
     },
     "execution_count": 6,
     "metadata": {},
     "output_type": "execute_result"
    }
   ],
   "source": [
    "extremum = solve (derivate,x)\n",
    "extremum.sort()\n",
    "extremum"
   ]
  },
  {
   "cell_type": "code",
   "execution_count": 7,
   "id": "18a3bae5",
   "metadata": {},
   "outputs": [
    {
     "data": {
      "text/plain": [
       "[-pi,\n",
       " -2*atan(-3/2 + sqrt(6)*sqrt(5 - sqrt(17))/2 + sqrt(17)/2),\n",
       " -pi/4,\n",
       " 2*atan(-sqrt(6)*sqrt(sqrt(17) + 5)/2 + 3/2 + sqrt(17)/2),\n",
       " 2*atan(-sqrt(17)/2 + sqrt(6)*sqrt(5 - sqrt(17))/2 + 3/2),\n",
       " 3*pi/4,\n",
       " 2*atan(3/2 + sqrt(17)/2 + sqrt(6)*sqrt(sqrt(17) + 5)/2),\n",
       " pi]"
      ]
     },
     "execution_count": 7,
     "metadata": {},
     "output_type": "execute_result"
    }
   ],
   "source": [
    "if extremum[0] != -pi:\n",
    "    extremum.insert(0,-pi)\n",
    "if extremum[-1] != pi:\n",
    "    extremum.append(pi)\n",
    "extremum\n"
   ]
  },
  {
   "cell_type": "code",
   "execution_count": 8,
   "id": "ceb10e40",
   "metadata": {},
   "outputs": [
    {
     "name": "stdout",
     "output_type": "stream",
     "text": [
      "функция (sin(x)/2 + cos(x)/2)**2*sin(x) на отрезке от -3.14 до -2.08 убывает\n",
      "функция (sin(x)/2 + cos(x)/2)**2*sin(x) на отрезке от -2.08 до -0.79 возрастает\n",
      "функция (sin(x)/2 + cos(x)/2)**2*sin(x) на отрезке от -0.79 до -0.27 убывает\n",
      "функция (sin(x)/2 + cos(x)/2)**2*sin(x) на отрезке от -0.27 до 1.06 возрастает\n",
      "функция (sin(x)/2 + cos(x)/2)**2*sin(x) на отрезке от 1.06 до 2.36 убывает\n",
      "функция (sin(x)/2 + cos(x)/2)**2*sin(x) на отрезке от 2.36 до 2.87 возрастает\n",
      "функция (sin(x)/2 + cos(x)/2)**2*sin(x) на отрезке от 2.87 до 3.14 убывает\n"
     ]
    }
   ],
   "source": [
    "for i in range (len(extremum)-1):\n",
    "    if derivate.subs(x,(extremum[i].evalf()+extremum[i+1].evalf())/2) > 0:\n",
    "        print (f'функция {y} на отрезке от {round(extremum[i].evalf(), 2)} до {round(extremum[i+1].evalf(), 2)} возрастает')\n",
    "    else:\n",
    "        print (f'функция {y} на отрезке от {round(extremum[i].evalf(), 2)} до {round(extremum[i+1].evalf(), 2)} убывает')\n",
    "   "
   ]
  },
  {
   "cell_type": "markdown",
   "id": "7a6454ae",
   "metadata": {},
   "source": [
    "## Построить график"
   ]
  },
  {
   "cell_type": "code",
   "execution_count": 9,
   "id": "676b4dc2",
   "metadata": {},
   "outputs": [
    {
     "name": "stdout",
     "output_type": "stream",
     "text": [
      "    0.4 |                                   ...                 \n",
      "        |                                  /   \\                \n",
      "        |                                 /     \\               \n",
      "        |                                .       \\              \n",
      "        |                                         .             \n",
      "        |                               .                       \n",
      "        |                              .           .            \n",
      "        |                                           \\           \n",
      "        |                             .              \\          \n",
      "        |                            /                \\    .... \n",
      "      0 |\\------------------....----/------------------....----\\\n",
      "        | \\                /    ....                            \n",
      "        |  .              /                                     \n",
      "        |                /                                      \n",
      "        |   .           .                                       \n",
      "        |    .                                                  \n",
      "        |              .                                        \n",
      "        |     .       /                                         \n",
      "        |      \\     /                                          \n",
      "        |       \\   /                                           \n",
      "   -0.4 |_______________________________________________________\n",
      "         -3.14159                   0                          3.14159\n"
     ]
    }
   ],
   "source": [
    "p = plot (y, (x, -pi, pi))"
   ]
  },
  {
   "cell_type": "code",
   "execution_count": 10,
   "id": "4ad82ad5",
   "metadata": {},
   "outputs": [
    {
     "name": "stdout",
     "output_type": "stream",
     "text": [
      "Максимальная вершина 0.404106232073136\n",
      "Минимальная вершина -0.404106232073136\n"
     ]
    }
   ],
   "source": [
    "for i in range (len(extremum)-1):\n",
    "    if i == 0:\n",
    "        min = y.subs(x, extremum[i].evalf())\n",
    "        max = y.subs(x, extremum[i].evalf())\n",
    "    else:\n",
    "        if min > y.subs(x, extremum[i].evalf()):\n",
    "            min = y.subs(x, extremum[i].evalf())\n",
    "        if max < y.subs(x, extremum[i].evalf()):\n",
    "            max = y.subs(x, extremum[i].evalf())\n",
    "print (f'Максимальная вершина {max}')\n",
    "print (f'Минимальная вершина {min}')"
   ]
  },
  {
   "cell_type": "markdown",
   "id": "3240e372",
   "metadata": {},
   "source": [
    "## Вычисление отрезков, на которых функция больше либо меньше 0"
   ]
  },
  {
   "cell_type": "code",
   "execution_count": 11,
   "id": "1ffe09d7",
   "metadata": {},
   "outputs": [
    {
     "data": {
      "text/plain": [
       "[-pi, -pi/4, 0, 3*pi/4, pi]"
      ]
     },
     "execution_count": 11,
     "metadata": {},
     "output_type": "execute_result"
    }
   ],
   "source": [
    "func = solve (y,x)\n",
    "func.sort()\n",
    "if func[0] != -pi:\n",
    "    func.insert(0,-pi)\n",
    "if func[-1] != pi:\n",
    "    func.append(pi)\n",
    "func"
   ]
  },
  {
   "cell_type": "code",
   "execution_count": 12,
   "id": "fbcf5236",
   "metadata": {},
   "outputs": [
    {
     "name": "stdout",
     "output_type": "stream",
     "text": [
      "значение функции (sin(x)/2 + cos(x)/2)**2*sin(x) на отрезке от -pi до -pi/4 отрицательная\n",
      "значение функции (sin(x)/2 + cos(x)/2)**2*sin(x) на отрезке от -pi/4 до 0 отрицательная\n",
      "значение функции (sin(x)/2 + cos(x)/2)**2*sin(x) на отрезке от 0 до 3*pi/4 положительная\n",
      "значение функции (sin(x)/2 + cos(x)/2)**2*sin(x) на отрезке от 3*pi/4 до pi положительная\n"
     ]
    }
   ],
   "source": [
    "for i in range (len(func)-1):\n",
    "    if y.subs(x,(func[i].evalf()+func[i+1].evalf())/2) > 0:\n",
    "        print (f'значение функции {y} на отрезке от {func[i]} до {func[i+1]} положительная')\n",
    "    else:\n",
    "        print (f'значение функции {y} на отрезке от {func[i]} до {func[i+1]} отрицательная')\n",
    "   "
   ]
  },
  {
   "cell_type": "code",
   "execution_count": null,
   "id": "1d15002e",
   "metadata": {},
   "outputs": [],
   "source": []
  }
 ],
 "metadata": {
  "kernelspec": {
   "display_name": "Python 3 (ipykernel)",
   "language": "python",
   "name": "python3"
  },
  "language_info": {
   "codemirror_mode": {
    "name": "ipython",
    "version": 3
   },
   "file_extension": ".py",
   "mimetype": "text/x-python",
   "name": "python",
   "nbconvert_exporter": "python",
   "pygments_lexer": "ipython3",
   "version": "3.10.6"
  }
 },
 "nbformat": 4,
 "nbformat_minor": 5
}
